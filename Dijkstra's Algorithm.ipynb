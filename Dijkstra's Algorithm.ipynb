{
 "cells": [
  {
   "cell_type": "code",
   "execution_count": 3,
   "metadata": {},
   "outputs": [],
   "source": [
    "from typing import Dict\n",
    "from collections import namedtuple"
   ]
  },
  {
   "cell_type": "code",
   "execution_count": 6,
   "metadata": {},
   "outputs": [],
   "source": [
    "class Edge:\n",
    "    start: \"Node\"\n",
    "    end: \"Node\"\n",
    "    weight: float\n",
    "\n",
    "    def __init__(self, start, end, weight):\n",
    "        self.start = start\n",
    "        self.end = end\n",
    "        self.weight = weight\n",
    "\n",
    "\n",
    "class Node:\n",
    "    name: str\n",
    "    edges: Dict[str, Edge]\n",
    "\n",
    "    def __init__(self, name: str):\n",
    "        self.name = name\n",
    "        self.edges = {}\n",
    "\n",
    "    def add_edge(self, node: \"Node\", weight: float):\n",
    "        new_edge = Edge(self, node, weight)\n",
    "        self.edges[node.name] = new_edge\n"
   ]
  },
  {
   "cell_type": "code",
   "execution_count": 7,
   "metadata": {},
   "outputs": [],
   "source": [
    "graph = Node(\"Book\")\n",
    "\n",
    "graph.add_edge(Node(\"LP\"), 5)\n",
    "graph.add_edge(Node(\"Poster\"), 0)"
   ]
  },
  {
   "cell_type": "code",
   "execution_count": 10,
   "metadata": {},
   "outputs": [
    {
     "data": {
      "text/plain": [
       "<__main__.Edge at 0x7f4fe8a6d4f0>"
      ]
     },
     "execution_count": 10,
     "metadata": {},
     "output_type": "execute_result"
    }
   ],
   "source": [
    "graph.edges[\"LP\"].end.add_edge(Node())"
   ]
  },
  {
   "cell_type": "code",
   "execution_count": null,
   "metadata": {},
   "outputs": [],
   "source": []
  }
 ],
 "metadata": {
  "kernelspec": {
   "display_name": "Python 3.8.10 64-bit",
   "language": "python",
   "name": "python3"
  },
  "language_info": {
   "codemirror_mode": {
    "name": "ipython",
    "version": 3
   },
   "file_extension": ".py",
   "mimetype": "text/x-python",
   "name": "python",
   "nbconvert_exporter": "python",
   "pygments_lexer": "ipython3",
   "version": "3.10.6"
  },
  "orig_nbformat": 4,
  "vscode": {
   "interpreter": {
    "hash": "916dbcbb3f70747c44a77c7bcd40155683ae19c65e1c03b4aa3499c5328201f1"
   }
  }
 },
 "nbformat": 4,
 "nbformat_minor": 2
}
