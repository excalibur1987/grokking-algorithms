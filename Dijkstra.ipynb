{
 "cells": [
  {
   "cell_type": "code",
   "execution_count": 1,
   "metadata": {},
   "outputs": [],
   "source": [
    "inf = float(\"inf\")\n",
    "\n",
    "graph1 = {\n",
    "    \"start\": {\"A\": 5, \"B\": 2},\n",
    "    \"A\": {\"C\": 4, \"D\": 3},\n",
    "    \"B\": {\"A\": 8, \"D\": 7},\n",
    "    \"C\": {\"D\": 6, \"finish\": 3},\n",
    "    \"D\": {\"finish\": 1},\n",
    "    \"finish\": {},\n",
    "}\n",
    "\n",
    "graph2 = {\n",
    "    \"start\": {\"A\":10},\n",
    "    \"A\": {\"B\": 20},\n",
    "    \"B\": {\"C\": 1, \"finish\": 30},\n",
    "    \"C\": {\"A\": 1},\n",
    "    \"finish\": {}\n",
    "}\n",
    "\n",
    "graph3 = {\n",
    "    \"start\": {\"A\":2, \"B\":2},\n",
    "    \"A\": {\"finish\": 2, \"C\": 2},\n",
    "    \"B\":{\"A\": 2},\n",
    "    \"C\": {\"B\": -1, \"finish\": 2},\n",
    "    \"finish\": {}\n",
    "}\n"
   ]
  },
  {
   "cell_type": "code",
   "execution_count": 4,
   "metadata": {},
   "outputs": [],
   "source": [
    "def get_path_to_node(graph: dict, start_node: str, end_node: str):\n",
    "\n",
    "    costs = dict(\n",
    "        (k, graph[start_node].get(k, inf)) for k in graph.keys() if k != start_node\n",
    "    )\n",
    "\n",
    "    parents = dict(\n",
    "        (k, start_node if k in graph[start_node] else None)\n",
    "        for k in graph.keys()\n",
    "        if k != start_node\n",
    "    )\n",
    "\n",
    "    processed_nodes = []\n",
    "\n",
    "    def get_lowest_node(collection: dict):\n",
    "        l_node = None\n",
    "        for k in [k for k in collection.keys() if k not in processed_nodes]:\n",
    "            if l_node is None:\n",
    "                l_node = k\n",
    "            elif collection[k] < collection[l_node]:\n",
    "                l_node = k\n",
    "        processed_nodes.append(l_node)\n",
    "        return l_node\n",
    "\n",
    "    lowest_node = get_lowest_node(costs)\n",
    "    while lowest_node is not None:\n",
    "        for neighbor in graph[lowest_node].keys():\n",
    "            new_cost = costs[lowest_node] + graph[lowest_node][neighbor]\n",
    "            if new_cost < costs[neighbor]:\n",
    "                costs[neighbor] = new_cost\n",
    "                parents[neighbor] = lowest_node\n",
    "        lowest_node = get_lowest_node(costs)\n",
    "\n",
    "    node = end_node\n",
    "    path = [node]\n",
    "    while parents.get(node):\n",
    "        path.append(parents[node])\n",
    "        node = parents[node]\n",
    "\n",
    "\n",
    "    return costs[end_node], \" -> \".join(path[::-1])\n"
   ]
  },
  {
   "cell_type": "code",
   "execution_count": 5,
   "metadata": {},
   "outputs": [
    {
     "name": "stdout",
     "output_type": "stream",
     "text": [
      "(9, 'start -> A -> D -> finish')\n",
      "(60, 'start -> A -> B -> finish')\n",
      "(4, 'start -> A -> finish')\n"
     ]
    }
   ],
   "source": [
    "print(get_path_to_node(graph1, \"start\", \"finish\"))\n",
    "\n",
    "print(get_path_to_node(graph2, \"start\", \"finish\"))\n",
    "\n",
    "print(get_path_to_node(graph3, \"start\", \"finish\"))\n",
    "\n"
   ]
  },
  {
   "cell_type": "code",
   "execution_count": 6,
   "metadata": {},
   "outputs": [],
   "source": [
    "piano_graph = {\n",
    "    \"book\": {\"lp\": 2, \"poster\": 0},\n",
    "    \"lp\": {\"bass\":15, \"drum\": 20},\n",
    "    \"poster\": {\"bass\":30, \"drum\": 35},\n",
    "    \"bass\": {\"piano\": 20},\n",
    "    \"drum\": {\"piano\": 10},\n",
    "    \"piano\": {}\n",
    "}"
   ]
  },
  {
   "cell_type": "code",
   "execution_count": 7,
   "metadata": {},
   "outputs": [
    {
     "name": "stdout",
     "output_type": "stream",
     "text": [
      "(32, 'book -> lp -> drum -> piano')\n"
     ]
    }
   ],
   "source": [
    "print(get_path_to_node(piano_graph, \"book\", \"piano\"))"
   ]
  },
  {
   "cell_type": "code",
   "execution_count": null,
   "metadata": {},
   "outputs": [],
   "source": []
  }
 ],
 "metadata": {
  "kernelspec": {
   "display_name": "grokking-algorithms-FeD2atQz-py3.8",
   "language": "python",
   "name": "python3"
  },
  "language_info": {
   "codemirror_mode": {
    "name": "ipython",
    "version": 3
   },
   "file_extension": ".py",
   "mimetype": "text/x-python",
   "name": "python",
   "nbconvert_exporter": "python",
   "pygments_lexer": "ipython3",
   "version": "3.8.10"
  },
  "orig_nbformat": 4,
  "vscode": {
   "interpreter": {
    "hash": "1bed85bb9c8b51e8b85e540cb8ad767daa6b3b3e75c6862bd4152176bb6f3f63"
   }
  }
 },
 "nbformat": 4,
 "nbformat_minor": 2
}
